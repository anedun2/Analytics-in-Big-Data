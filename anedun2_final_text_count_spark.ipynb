{
  "nbformat": 4,
  "nbformat_minor": 0,
  "metadata": {
    "colab": {
      "name": "anedun2_HW2.ipynb",
      "provenance": [],
      "collapsed_sections": [],
      "include_colab_link": true
    },
    "kernelspec": {
      "name": "python3",
      "display_name": "Python 3"
    }
  },
  "cells": [
    {
      "cell_type": "markdown",
      "metadata": {
        "id": "view-in-github",
        "colab_type": "text"
      },
      "source": [
        "<a href=\"https://colab.research.google.com/github/anedun2/Analytics-in-Big-Data/blob/master/anedun2_final_text_count_spark.ipynb\" target=\"_parent\"><img src=\"https://colab.research.google.com/assets/colab-badge.svg\" alt=\"Open In Colab\"/></a>"
      ]
    },
    {
      "cell_type": "code",
      "metadata": {
        "id": "iOSVZM5E7RAL",
        "colab_type": "code",
        "colab": {}
      },
      "source": [
        "!apt-get install openjdk-8-jdk-headless -qq > /dev/null"
      ],
      "execution_count": 0,
      "outputs": []
    },
    {
      "cell_type": "code",
      "metadata": {
        "id": "-xqfRx6s7Zl7",
        "colab_type": "code",
        "colab": {}
      },
      "source": [
        "!wget -q http://apache.mirrors.pair.com/spark/spark-2.4.4/spark-2.4.4-bin-hadoop2.7.tgz"
      ],
      "execution_count": 0,
      "outputs": []
    },
    {
      "cell_type": "code",
      "metadata": {
        "id": "-OjYDsHb7cdT",
        "colab_type": "code",
        "colab": {}
      },
      "source": [
        "!ls"
      ],
      "execution_count": 0,
      "outputs": []
    },
    {
      "cell_type": "code",
      "metadata": {
        "id": "7MS2-3jU7haz",
        "colab_type": "code",
        "colab": {}
      },
      "source": [
        "!tar -xvf spark-2.4.4-bin-hadoop2.7.tgz"
      ],
      "execution_count": 0,
      "outputs": []
    },
    {
      "cell_type": "code",
      "metadata": {
        "id": "_mytu3Bm7kZ1",
        "colab_type": "code",
        "outputId": "a4e1f571-15cc-4545-8f67-b4bdcaa7c0af",
        "colab": {
          "base_uri": "https://localhost:8080/",
          "height": 51
        }
      },
      "source": [
        "!ls "
      ],
      "execution_count": 0,
      "outputs": [
        {
          "output_type": "stream",
          "text": [
            "drive\t     spark-2.4.4-bin-hadoop2.7\t    spark-2.4.4-bin-hadoop2.7.tgz.1\n",
            "sample_data  spark-2.4.4-bin-hadoop2.7.tgz  spark-2.4.4-bin-hadoop2.7.tgz.2\n"
          ],
          "name": "stdout"
        }
      ]
    },
    {
      "cell_type": "code",
      "metadata": {
        "id": "Kyne_yA47n9Z",
        "colab_type": "code",
        "colab": {}
      },
      "source": [
        "!pip install -q findspark"
      ],
      "execution_count": 0,
      "outputs": []
    },
    {
      "cell_type": "code",
      "metadata": {
        "id": "sOuO0S7y7tzA",
        "colab_type": "code",
        "colab": {}
      },
      "source": [
        "import os\n",
        "os.environ[\"JAVA_HOME\"] = \"/usr/lib/jvm/java-8-openjdk-amd64\"\n",
        "os.environ[\"SPARK_HOME\"] = \"/content/spark-2.4.4-bin-hadoop2.7\""
      ],
      "execution_count": 0,
      "outputs": []
    },
    {
      "cell_type": "code",
      "metadata": {
        "id": "m__UKu8C7ylW",
        "colab_type": "code",
        "colab": {}
      },
      "source": [
        "import findspark\n",
        "findspark.init()\n",
        "from pyspark.sql import SparkSession\n",
        "spark = SparkSession.builder.master(\"local[*]\").getOrCreate()"
      ],
      "execution_count": 0,
      "outputs": []
    },
    {
      "cell_type": "code",
      "metadata": {
        "id": "_RC_GaN274vB",
        "colab_type": "code",
        "outputId": "507e7000-6579-460d-a2e2-c4c7cb9edb02",
        "colab": {
          "base_uri": "https://localhost:8080/",
          "height": 190
        }
      },
      "source": [
        "df = spark.createDataFrame([{\"Google\": \"Colab\",\"Spark\": \"Scala\"} ,{\"Google\": \"Dataproc\",\"Spark\":\"Python\"}])\n",
        "df.show()"
      ],
      "execution_count": 0,
      "outputs": [
        {
          "output_type": "stream",
          "text": [
            "+--------+------+\n",
            "|  Google| Spark|\n",
            "+--------+------+\n",
            "|   Colab| Scala|\n",
            "|Dataproc|Python|\n",
            "+--------+------+\n",
            "\n"
          ],
          "name": "stdout"
        },
        {
          "output_type": "stream",
          "text": [
            "/content/spark-2.4.4-bin-hadoop2.7/python/pyspark/sql/session.py:346: UserWarning: inferring schema from dict is deprecated,please use pyspark.sql.Row instead\n",
            "  warnings.warn(\"inferring schema from dict is deprecated,\"\n"
          ],
          "name": "stderr"
        }
      ]
    },
    {
      "cell_type": "code",
      "metadata": {
        "id": "_cxGHJpF9cSu",
        "colab_type": "code",
        "colab": {}
      },
      "source": [
        "import string # to remove punctuation\n",
        "import re\n",
        "import pandas as pd\n",
        "import os\n",
        "import itertools\n",
        "from collections import Counter\n",
        "from pyspark.sql.functions import *\n",
        "from pyspark.sql import functions as f\n",
        "from pyspark.sql.types import IntegerType, StringType\n",
        "from pyspark.sql.functions import udf, col\n"
      ],
      "execution_count": 0,
      "outputs": []
    },
    {
      "cell_type": "markdown",
      "metadata": {
        "id": "oPCB5xTfh3GD",
        "colab_type": "text"
      },
      "source": [
        "# Step 1: Load data"
      ]
    },
    {
      "cell_type": "code",
      "metadata": {
        "id": "3bWoyWFazUxw",
        "colab_type": "code",
        "outputId": "2066818b-b27e-4b0d-fe3a-07f23006b4cf",
        "colab": {
          "base_uri": "https://localhost:8080/",
          "height": 34
        }
      },
      "source": [
        "#mounting google drive\n",
        "from google.colab import drive\n",
        "drive.mount('/content/drive')"
      ],
      "execution_count": 0,
      "outputs": [
        {
          "output_type": "stream",
          "text": [
            "Mounted at /content/drive\n"
          ],
          "name": "stdout"
        }
      ]
    },
    {
      "cell_type": "code",
      "metadata": {
        "id": "yyAN1EYz9c-C",
        "colab_type": "code",
        "outputId": "9fcf9a4f-58bc-4f29-f900-6ff8ebff99ea",
        "colab": {
          "resources": {
            "http://localhost:8080/nbextensions/google.colab/files.js": {
              "data": "Ly8gQ29weXJpZ2h0IDIwMTcgR29vZ2xlIExMQwovLwovLyBMaWNlbnNlZCB1bmRlciB0aGUgQXBhY2hlIExpY2Vuc2UsIFZlcnNpb24gMi4wICh0aGUgIkxpY2Vuc2UiKTsKLy8geW91IG1heSBub3QgdXNlIHRoaXMgZmlsZSBleGNlcHQgaW4gY29tcGxpYW5jZSB3aXRoIHRoZSBMaWNlbnNlLgovLyBZb3UgbWF5IG9idGFpbiBhIGNvcHkgb2YgdGhlIExpY2Vuc2UgYXQKLy8KLy8gICAgICBodHRwOi8vd3d3LmFwYWNoZS5vcmcvbGljZW5zZXMvTElDRU5TRS0yLjAKLy8KLy8gVW5sZXNzIHJlcXVpcmVkIGJ5IGFwcGxpY2FibGUgbGF3IG9yIGFncmVlZCB0byBpbiB3cml0aW5nLCBzb2Z0d2FyZQovLyBkaXN0cmlidXRlZCB1bmRlciB0aGUgTGljZW5zZSBpcyBkaXN0cmlidXRlZCBvbiBhbiAiQVMgSVMiIEJBU0lTLAovLyBXSVRIT1VUIFdBUlJBTlRJRVMgT1IgQ09ORElUSU9OUyBPRiBBTlkgS0lORCwgZWl0aGVyIGV4cHJlc3Mgb3IgaW1wbGllZC4KLy8gU2VlIHRoZSBMaWNlbnNlIGZvciB0aGUgc3BlY2lmaWMgbGFuZ3VhZ2UgZ292ZXJuaW5nIHBlcm1pc3Npb25zIGFuZAovLyBsaW1pdGF0aW9ucyB1bmRlciB0aGUgTGljZW5zZS4KCi8qKgogKiBAZmlsZW92ZXJ2aWV3IEhlbHBlcnMgZm9yIGdvb2dsZS5jb2xhYiBQeXRob24gbW9kdWxlLgogKi8KKGZ1bmN0aW9uKHNjb3BlKSB7CmZ1bmN0aW9uIHNwYW4odGV4dCwgc3R5bGVBdHRyaWJ1dGVzID0ge30pIHsKICBjb25zdCBlbGVtZW50ID0gZG9jdW1lbnQuY3JlYXRlRWxlbWVudCgnc3BhbicpOwogIGVsZW1lbnQudGV4dENvbnRlbnQgPSB0ZXh0OwogIGZvciAoY29uc3Qga2V5IG9mIE9iamVjdC5rZXlzKHN0eWxlQXR0cmlidXRlcykpIHsKICAgIGVsZW1lbnQuc3R5bGVba2V5XSA9IHN0eWxlQXR0cmlidXRlc1trZXldOwogIH0KICByZXR1cm4gZWxlbWVudDsKfQoKLy8gTWF4IG51bWJlciBvZiBieXRlcyB3aGljaCB3aWxsIGJlIHVwbG9hZGVkIGF0IGEgdGltZS4KY29uc3QgTUFYX1BBWUxPQURfU0laRSA9IDEwMCAqIDEwMjQ7Ci8vIE1heCBhbW91bnQgb2YgdGltZSB0byBibG9jayB3YWl0aW5nIGZvciB0aGUgdXNlci4KY29uc3QgRklMRV9DSEFOR0VfVElNRU9VVF9NUyA9IDMwICogMTAwMDsKCmZ1bmN0aW9uIF91cGxvYWRGaWxlcyhpbnB1dElkLCBvdXRwdXRJZCkgewogIGNvbnN0IHN0ZXBzID0gdXBsb2FkRmlsZXNTdGVwKGlucHV0SWQsIG91dHB1dElkKTsKICBjb25zdCBvdXRwdXRFbGVtZW50ID0gZG9jdW1lbnQuZ2V0RWxlbWVudEJ5SWQob3V0cHV0SWQpOwogIC8vIENhY2hlIHN0ZXBzIG9uIHRoZSBvdXRwdXRFbGVtZW50IHRvIG1ha2UgaXQgYXZhaWxhYmxlIGZvciB0aGUgbmV4dCBjYWxsCiAgLy8gdG8gdXBsb2FkRmlsZXNDb250aW51ZSBmcm9tIFB5dGhvbi4KICBvdXRwdXRFbGVtZW50LnN0ZXBzID0gc3RlcHM7CgogIHJldHVybiBfdXBsb2FkRmlsZXNDb250aW51ZShvdXRwdXRJZCk7Cn0KCi8vIFRoaXMgaXMgcm91Z2hseSBhbiBhc3luYyBnZW5lcmF0b3IgKG5vdCBzdXBwb3J0ZWQgaW4gdGhlIGJyb3dzZXIgeWV0KSwKLy8gd2hlcmUgdGhlcmUgYXJlIG11bHRpcGxlIGFzeW5jaHJvbm91cyBzdGVwcyBhbmQgdGhlIFB5dGhvbiBzaWRlIGlzIGdvaW5nCi8vIHRvIHBvbGwgZm9yIGNvbXBsZXRpb24gb2YgZWFjaCBzdGVwLgovLyBUaGlzIHVzZXMgYSBQcm9taXNlIHRvIGJsb2NrIHRoZSBweXRob24gc2lkZSBvbiBjb21wbGV0aW9uIG9mIGVhY2ggc3RlcCwKLy8gdGhlbiBwYXNzZXMgdGhlIHJlc3VsdCBvZiB0aGUgcHJldmlvdXMgc3RlcCBhcyB0aGUgaW5wdXQgdG8gdGhlIG5leHQgc3RlcC4KZnVuY3Rpb24gX3VwbG9hZEZpbGVzQ29udGludWUob3V0cHV0SWQpIHsKICBjb25zdCBvdXRwdXRFbGVtZW50ID0gZG9jdW1lbnQuZ2V0RWxlbWVudEJ5SWQob3V0cHV0SWQpOwogIGNvbnN0IHN0ZXBzID0gb3V0cHV0RWxlbWVudC5zdGVwczsKCiAgY29uc3QgbmV4dCA9IHN0ZXBzLm5leHQob3V0cHV0RWxlbWVudC5sYXN0UHJvbWlzZVZhbHVlKTsKICByZXR1cm4gUHJvbWlzZS5yZXNvbHZlKG5leHQudmFsdWUucHJvbWlzZSkudGhlbigodmFsdWUpID0+IHsKICAgIC8vIENhY2hlIHRoZSBsYXN0IHByb21pc2UgdmFsdWUgdG8gbWFrZSBpdCBhdmFpbGFibGUgdG8gdGhlIG5leHQKICAgIC8vIHN0ZXAgb2YgdGhlIGdlbmVyYXRvci4KICAgIG91dHB1dEVsZW1lbnQubGFzdFByb21pc2VWYWx1ZSA9IHZhbHVlOwogICAgcmV0dXJuIG5leHQudmFsdWUucmVzcG9uc2U7CiAgfSk7Cn0KCi8qKgogKiBHZW5lcmF0b3IgZnVuY3Rpb24gd2hpY2ggaXMgY2FsbGVkIGJldHdlZW4gZWFjaCBhc3luYyBzdGVwIG9mIHRoZSB1cGxvYWQKICogcHJvY2Vzcy4KICogQHBhcmFtIHtzdHJpbmd9IGlucHV0SWQgRWxlbWVudCBJRCBvZiB0aGUgaW5wdXQgZmlsZSBwaWNrZXIgZWxlbWVudC4KICogQHBhcmFtIHtzdHJpbmd9IG91dHB1dElkIEVsZW1lbnQgSUQgb2YgdGhlIG91dHB1dCBkaXNwbGF5LgogKiBAcmV0dXJuIHshSXRlcmFibGU8IU9iamVjdD59IEl0ZXJhYmxlIG9mIG5leHQgc3RlcHMuCiAqLwpmdW5jdGlvbiogdXBsb2FkRmlsZXNTdGVwKGlucHV0SWQsIG91dHB1dElkKSB7CiAgY29uc3QgaW5wdXRFbGVtZW50ID0gZG9jdW1lbnQuZ2V0RWxlbWVudEJ5SWQoaW5wdXRJZCk7CiAgaW5wdXRFbGVtZW50LmRpc2FibGVkID0gZmFsc2U7CgogIGNvbnN0IG91dHB1dEVsZW1lbnQgPSBkb2N1bWVudC5nZXRFbGVtZW50QnlJZChvdXRwdXRJZCk7CiAgb3V0cHV0RWxlbWVudC5pbm5lckhUTUwgPSAnJzsKCiAgY29uc3QgcGlja2VkUHJvbWlzZSA9IG5ldyBQcm9taXNlKChyZXNvbHZlKSA9PiB7CiAgICBpbnB1dEVsZW1lbnQuYWRkRXZlbnRMaXN0ZW5lcignY2hhbmdlJywgKGUpID0+IHsKICAgICAgcmVzb2x2ZShlLnRhcmdldC5maWxlcyk7CiAgICB9KTsKICB9KTsKCiAgY29uc3QgY2FuY2VsID0gZG9jdW1lbnQuY3JlYXRlRWxlbWVudCgnYnV0dG9uJyk7CiAgaW5wdXRFbGVtZW50LnBhcmVudEVsZW1lbnQuYXBwZW5kQ2hpbGQoY2FuY2VsKTsKICBjYW5jZWwudGV4dENvbnRlbnQgPSAnQ2FuY2VsIHVwbG9hZCc7CiAgY29uc3QgY2FuY2VsUHJvbWlzZSA9IG5ldyBQcm9taXNlKChyZXNvbHZlKSA9PiB7CiAgICBjYW5jZWwub25jbGljayA9ICgpID0+IHsKICAgICAgcmVzb2x2ZShudWxsKTsKICAgIH07CiAgfSk7CgogIC8vIENhbmNlbCB1cGxvYWQgaWYgdXNlciBoYXNuJ3QgcGlja2VkIGFueXRoaW5nIGluIHRpbWVvdXQuCiAgY29uc3QgdGltZW91dFByb21pc2UgPSBuZXcgUHJvbWlzZSgocmVzb2x2ZSkgPT4gewogICAgc2V0VGltZW91dCgoKSA9PiB7CiAgICAgIHJlc29sdmUobnVsbCk7CiAgICB9LCBGSUxFX0NIQU5HRV9USU1FT1VUX01TKTsKICB9KTsKCiAgLy8gV2FpdCBmb3IgdGhlIHVzZXIgdG8gcGljayB0aGUgZmlsZXMuCiAgY29uc3QgZmlsZXMgPSB5aWVsZCB7CiAgICBwcm9taXNlOiBQcm9taXNlLnJhY2UoW3BpY2tlZFByb21pc2UsIHRpbWVvdXRQcm9taXNlLCBjYW5jZWxQcm9taXNlXSksCiAgICByZXNwb25zZTogewogICAgICBhY3Rpb246ICdzdGFydGluZycsCiAgICB9CiAgfTsKCiAgaWYgKCFmaWxlcykgewogICAgcmV0dXJuIHsKICAgICAgcmVzcG9uc2U6IHsKICAgICAgICBhY3Rpb246ICdjb21wbGV0ZScsCiAgICAgIH0KICAgIH07CiAgfQoKICBjYW5jZWwucmVtb3ZlKCk7CgogIC8vIERpc2FibGUgdGhlIGlucHV0IGVsZW1lbnQgc2luY2UgZnVydGhlciBwaWNrcyBhcmUgbm90IGFsbG93ZWQuCiAgaW5wdXRFbGVtZW50LmRpc2FibGVkID0gdHJ1ZTsKCiAgZm9yIChjb25zdCBmaWxlIG9mIGZpbGVzKSB7CiAgICBjb25zdCBsaSA9IGRvY3VtZW50LmNyZWF0ZUVsZW1lbnQoJ2xpJyk7CiAgICBsaS5hcHBlbmQoc3BhbihmaWxlLm5hbWUsIHtmb250V2VpZ2h0OiAnYm9sZCd9KSk7CiAgICBsaS5hcHBlbmQoc3BhbigKICAgICAgICBgKCR7ZmlsZS50eXBlIHx8ICduL2EnfSkgLSAke2ZpbGUuc2l6ZX0gYnl0ZXMsIGAgKwogICAgICAgIGBsYXN0IG1vZGlmaWVkOiAkewogICAgICAgICAgICBmaWxlLmxhc3RNb2RpZmllZERhdGUgPyBmaWxlLmxhc3RNb2RpZmllZERhdGUudG9Mb2NhbGVEYXRlU3RyaW5nKCkgOgogICAgICAgICAgICAgICAgICAgICAgICAgICAgICAgICAgICAnbi9hJ30gLSBgKSk7CiAgICBjb25zdCBwZXJjZW50ID0gc3BhbignMCUgZG9uZScpOwogICAgbGkuYXBwZW5kQ2hpbGQocGVyY2VudCk7CgogICAgb3V0cHV0RWxlbWVudC5hcHBlbmRDaGlsZChsaSk7CgogICAgY29uc3QgZmlsZURhdGFQcm9taXNlID0gbmV3IFByb21pc2UoKHJlc29sdmUpID0+IHsKICAgICAgY29uc3QgcmVhZGVyID0gbmV3IEZpbGVSZWFkZXIoKTsKICAgICAgcmVhZGVyLm9ubG9hZCA9IChlKSA9PiB7CiAgICAgICAgcmVzb2x2ZShlLnRhcmdldC5yZXN1bHQpOwogICAgICB9OwogICAgICByZWFkZXIucmVhZEFzQXJyYXlCdWZmZXIoZmlsZSk7CiAgICB9KTsKICAgIC8vIFdhaXQgZm9yIHRoZSBkYXRhIHRvIGJlIHJlYWR5LgogICAgbGV0IGZpbGVEYXRhID0geWllbGQgewogICAgICBwcm9taXNlOiBmaWxlRGF0YVByb21pc2UsCiAgICAgIHJlc3BvbnNlOiB7CiAgICAgICAgYWN0aW9uOiAnY29udGludWUnLAogICAgICB9CiAgICB9OwoKICAgIC8vIFVzZSBhIGNodW5rZWQgc2VuZGluZyB0byBhdm9pZCBtZXNzYWdlIHNpemUgbGltaXRzLiBTZWUgYi82MjExNTY2MC4KICAgIGxldCBwb3NpdGlvbiA9IDA7CiAgICB3aGlsZSAocG9zaXRpb24gPCBmaWxlRGF0YS5ieXRlTGVuZ3RoKSB7CiAgICAgIGNvbnN0IGxlbmd0aCA9IE1hdGgubWluKGZpbGVEYXRhLmJ5dGVMZW5ndGggLSBwb3NpdGlvbiwgTUFYX1BBWUxPQURfU0laRSk7CiAgICAgIGNvbnN0IGNodW5rID0gbmV3IFVpbnQ4QXJyYXkoZmlsZURhdGEsIHBvc2l0aW9uLCBsZW5ndGgpOwogICAgICBwb3NpdGlvbiArPSBsZW5ndGg7CgogICAgICBjb25zdCBiYXNlNjQgPSBidG9hKFN0cmluZy5mcm9tQ2hhckNvZGUuYXBwbHkobnVsbCwgY2h1bmspKTsKICAgICAgeWllbGQgewogICAgICAgIHJlc3BvbnNlOiB7CiAgICAgICAgICBhY3Rpb246ICdhcHBlbmQnLAogICAgICAgICAgZmlsZTogZmlsZS5uYW1lLAogICAgICAgICAgZGF0YTogYmFzZTY0LAogICAgICAgIH0sCiAgICAgIH07CiAgICAgIHBlcmNlbnQudGV4dENvbnRlbnQgPQogICAgICAgICAgYCR7TWF0aC5yb3VuZCgocG9zaXRpb24gLyBmaWxlRGF0YS5ieXRlTGVuZ3RoKSAqIDEwMCl9JSBkb25lYDsKICAgIH0KICB9CgogIC8vIEFsbCBkb25lLgogIHlpZWxkIHsKICAgIHJlc3BvbnNlOiB7CiAgICAgIGFjdGlvbjogJ2NvbXBsZXRlJywKICAgIH0KICB9Owp9CgpzY29wZS5nb29nbGUgPSBzY29wZS5nb29nbGUgfHwge307CnNjb3BlLmdvb2dsZS5jb2xhYiA9IHNjb3BlLmdvb2dsZS5jb2xhYiB8fCB7fTsKc2NvcGUuZ29vZ2xlLmNvbGFiLl9maWxlcyA9IHsKICBfdXBsb2FkRmlsZXMsCiAgX3VwbG9hZEZpbGVzQ29udGludWUsCn07Cn0pKHNlbGYpOwo=",
              "ok": true,
              "headers": [
                [
                  "content-type",
                  "application/javascript"
                ]
              ],
              "status": 200,
              "status_text": ""
            }
          },
          "base_uri": "https://localhost:8080/",
          "height": 71
        }
      },
      "source": [
        "#importing file from local - optional\n",
        "from google.colab import files\n",
        "uploaded = files.upload()"
      ],
      "execution_count": 0,
      "outputs": [
        {
          "output_type": "display_data",
          "data": {
            "text/html": [
              "\n",
              "     <input type=\"file\" id=\"files-86802408-4ebe-4ae0-8e1d-553e04313805\" name=\"files[]\" multiple disabled />\n",
              "     <output id=\"result-86802408-4ebe-4ae0-8e1d-553e04313805\">\n",
              "      Upload widget is only available when the cell has been executed in the\n",
              "      current browser session. Please rerun this cell to enable.\n",
              "      </output>\n",
              "      <script src=\"/nbextensions/google.colab/files.js\"></script> "
            ],
            "text/plain": [
              "<IPython.core.display.HTML object>"
            ]
          },
          "metadata": {
            "tags": []
          }
        },
        {
          "output_type": "stream",
          "text": [
            "Saving Amazon_Responded_Oct05.csv to Amazon_Responded_Oct05.csv\n"
          ],
          "name": "stdout"
        }
      ]
    },
    {
      "cell_type": "code",
      "metadata": {
        "id": "RV3beoAr_nuL",
        "colab_type": "code",
        "outputId": "b4e135ff-7243-4d93-e328-cc5b79e2d627",
        "colab": {
          "base_uri": "https://localhost:8080/",
          "height": 51
        }
      },
      "source": [
        "!ls"
      ],
      "execution_count": 0,
      "outputs": [
        {
          "output_type": "stream",
          "text": [
            "drive\t     spark-2.4.4-bin-hadoop2.7\t    spark-2.4.4-bin-hadoop2.7.tgz.1\n",
            "sample_data  spark-2.4.4-bin-hadoop2.7.tgz  spark-2.4.4-bin-hadoop2.7.tgz.2\n"
          ],
          "name": "stdout"
        }
      ]
    },
    {
      "cell_type": "code",
      "metadata": {
        "id": "y40MxNiKGXYN",
        "colab_type": "code",
        "colab": {}
      },
      "source": [
        "#!rm 'Amazon_Responded_Oct05 (1).csv'"
      ],
      "execution_count": 0,
      "outputs": []
    },
    {
      "cell_type": "code",
      "metadata": {
        "id": "F2i5r-3T98Zc",
        "colab_type": "code",
        "outputId": "74e255e4-7d5e-4158-a40d-5bda08233347",
        "colab": {
          "base_uri": "https://localhost:8080/",
          "height": 34
        }
      },
      "source": [
        "#storing csv as dataframes\n",
        "from pyspark.ml.feature import VectorAssembler\n",
        "from pyspark.ml.regression import LinearRegression\n",
        "dataset = spark.read.csv('/content/drive/My Drive/Amazon_Responded_Oct05.csv',inferSchema=True, header =True)\n",
        "type(dataset)"
      ],
      "execution_count": 0,
      "outputs": [
        {
          "output_type": "execute_result",
          "data": {
            "text/plain": [
              "pyspark.sql.dataframe.DataFrame"
            ]
          },
          "metadata": {
            "tags": []
          },
          "execution_count": 176
        }
      ]
    },
    {
      "cell_type": "code",
      "metadata": {
        "id": "vkySj-GqNIeL",
        "colab_type": "code",
        "outputId": "ba1c827b-e83d-476c-951b-062a7e2f5305",
        "colab": {
          "base_uri": "https://localhost:8080/",
          "height": 476
        }
      },
      "source": [
        "dataset.printSchema()"
      ],
      "execution_count": 0,
      "outputs": [
        {
          "output_type": "stream",
          "text": [
            "root\n",
            " |-- id_str: string (nullable = true)\n",
            " |-- tweet_created_at: string (nullable = true)\n",
            " |-- user_screen_name: string (nullable = true)\n",
            " |-- user_id_str: string (nullable = true)\n",
            " |-- user_statuses_count: string (nullable = true)\n",
            " |-- user_favourites_count: string (nullable = true)\n",
            " |-- user_protected: string (nullable = true)\n",
            " |-- user_listed_count: string (nullable = true)\n",
            " |-- user_following: string (nullable = true)\n",
            " |-- user_description: string (nullable = true)\n",
            " |-- user_location: string (nullable = true)\n",
            " |-- user_verified: string (nullable = true)\n",
            " |-- user_followers_count: string (nullable = true)\n",
            " |-- user_friends_count: string (nullable = true)\n",
            " |-- user_created_at: string (nullable = true)\n",
            " |-- tweet_language: string (nullable = true)\n",
            " |-- text_: string (nullable = true)\n",
            " |-- favorite_count: string (nullable = true)\n",
            " |-- favorited: string (nullable = true)\n",
            " |-- in_reply_to_screen_name: string (nullable = true)\n",
            " |-- in_reply_to_status_id_str: string (nullable = true)\n",
            " |-- in_reply_to_user_id_str: string (nullable = true)\n",
            " |-- retweet_count: string (nullable = true)\n",
            " |-- retweeted: string (nullable = true)\n",
            " |-- text: string (nullable = true)\n",
            "\n"
          ],
          "name": "stdout"
        }
      ]
    },
    {
      "cell_type": "markdown",
      "metadata": {
        "id": "A0ni-hq_iBR0",
        "colab_type": "text"
      },
      "source": [
        "# Step 2: Extract the three columns"
      ]
    },
    {
      "cell_type": "code",
      "metadata": {
        "id": "5JFQMDFAA_qe",
        "colab_type": "code",
        "outputId": "e325fda9-d2b3-4521-a8cc-3e8b1ac3482d",
        "colab": {
          "base_uri": "https://localhost:8080/",
          "height": 34
        }
      },
      "source": [
        "#selecting columns\n",
        "d1 = dataset.select(\"user_id_str\", \"user_followers_count\", \"text_\")\n",
        "\n",
        "#converting user_followers_count to integer type\n",
        "d1 = d1.withColumn(\"user_followers_count\", d1[\"user_followers_count\"].cast(IntegerType()))\n",
        "\n",
        "d1"
      ],
      "execution_count": 0,
      "outputs": [
        {
          "output_type": "execute_result",
          "data": {
            "text/plain": [
              "DataFrame[user_id_str: string, user_followers_count: int, text_: string]"
            ]
          },
          "metadata": {
            "tags": []
          },
          "execution_count": 178
        }
      ]
    },
    {
      "cell_type": "code",
      "metadata": {
        "id": "fqXShOE2a0CW",
        "colab_type": "code",
        "outputId": "acc673d9-44b7-49cb-a266-ae794fa0dafc",
        "colab": {
          "base_uri": "https://localhost:8080/",
          "height": 34
        }
      },
      "source": [
        "print((d1.count(), len(d1.columns)))"
      ],
      "execution_count": 0,
      "outputs": [
        {
          "output_type": "stream",
          "text": [
            "(413247, 3)\n"
          ],
          "name": "stdout"
        }
      ]
    },
    {
      "cell_type": "code",
      "metadata": {
        "id": "RDXSJqBLd0HN",
        "colab_type": "code",
        "colab": {}
      },
      "source": [
        "d2 = d1.na.fill({'user_id_str': '', 'user_followers_count': 0, 'text_': ''})"
      ],
      "execution_count": 0,
      "outputs": []
    },
    {
      "cell_type": "code",
      "metadata": {
        "id": "fZLHU_XEu1Il",
        "colab_type": "code",
        "outputId": "7dcc0c16-0dba-4a47-ca7a-93c728ca60c8",
        "colab": {
          "base_uri": "https://localhost:8080/",
          "height": 459
        }
      },
      "source": [
        "d2.filter(d2.user_id_str == 85741735).show()"
      ],
      "execution_count": 0,
      "outputs": [
        {
          "output_type": "stream",
          "text": [
            "+-----------+--------------------+--------------------+\n",
            "|user_id_str|user_followers_count|               text_|\n",
            "+-----------+--------------------+--------------------+\n",
            "|   85741735|              149569|@SeanEPanjab I'm ...|\n",
            "|   85741735|              149569|@SeanEPanjab Plea...|\n",
            "|   85741735|              149569|@SeanEPanjab With...|\n",
            "|   85741735|              149569|@SeanEPanjab I'm ...|\n",
            "|   85741735|              149568|@aakashwangnoo Hi...|\n",
            "|   85741735|              149568|@aakashwangnoo Hi...|\n",
            "|   85741735|              149568|@aakashwangnoo Pl...|\n",
            "|   85741735|              149568|@aakashwangnoo Hi...|\n",
            "|   85741735|              149568|@aakashwangnoo He...|\n",
            "|   85741735|              149568|@aakashwangnoo at...|\n",
            "|   85741735|              149568|@aakashwangnoo So...|\n",
            "|   85741735|              149571|@Murtazansp Hello...|\n",
            "|   85741735|              149571|@Murtazansp Could...|\n",
            "|   85741735|              149571|@Murtazansp Hi, s...|\n",
            "|   85741735|              149571|@Murtazansp Pleas...|\n",
            "|   85741735|              149571|@Murtazansp Hey t...|\n",
            "|   85741735|              149569|@anchitkhar Hello...|\n",
            "|   85741735|              149569|@anchitkhar HI! W...|\n",
            "|   85741735|              149569|@anchitkhar Hey! ...|\n",
            "|   85741735|              149570|@imkapsicum Hey, ...|\n",
            "+-----------+--------------------+--------------------+\n",
            "only showing top 20 rows\n",
            "\n"
          ],
          "name": "stdout"
        }
      ]
    },
    {
      "cell_type": "markdown",
      "metadata": {
        "id": "bzrCNvPMiL34",
        "colab_type": "text"
      },
      "source": [
        "# Step 3: Remove the duplicated records"
      ]
    },
    {
      "cell_type": "code",
      "metadata": {
        "id": "87Ofm5jUO8BH",
        "colab_type": "code",
        "colab": {}
      },
      "source": [
        "#arranging in descending order and removing duplicates\n",
        "d3 = d2.orderBy('user_followers_count', ascending=False).dropDuplicates(subset=['user_id_str'])\n"
      ],
      "execution_count": 0,
      "outputs": []
    },
    {
      "cell_type": "markdown",
      "metadata": {
        "id": "1piXWlomi1Ez",
        "colab_type": "text"
      },
      "source": [
        "# Step 4: Find popular users"
      ]
    },
    {
      "cell_type": "code",
      "metadata": {
        "id": "TI1-BSxFkn7h",
        "colab_type": "code",
        "colab": {}
      },
      "source": [
        "#finding users with followers greater than 5000\n",
        "d5 =  d3.filter(d3.user_followers_count > 5000)\n",
        "d6 = d5.orderBy('user_followers_count', ascending=False)"
      ],
      "execution_count": 0,
      "outputs": []
    },
    {
      "cell_type": "code",
      "metadata": {
        "id": "rgEIgZCwFwZN",
        "colab_type": "code",
        "outputId": "2b09fec0-667f-43c2-e6d6-a009bd4d96b3",
        "colab": {
          "base_uri": "https://localhost:8080/",
          "height": 459
        }
      },
      "source": [
        "d6.show()"
      ],
      "execution_count": 0,
      "outputs": [
        {
          "output_type": "stream",
          "text": [
            "+-----------+--------------------+-----+\n",
            "|user_id_str|user_followers_count|text_|\n",
            "+-----------+--------------------+-----+\n",
            "|        667|          1969294734|     |\n",
            "|        259|          1921566948|     |\n",
            "|        192|          1904765227|     |\n",
            "|         75|          1883058216|     |\n",
            "|        104|          1878410551|     |\n",
            "|        348|          1873286317|     |\n",
            "|        308|          1864643978|     |\n",
            "|        338|          1830107652|     |\n",
            "|        882|          1666728474|     |\n",
            "|       1811|          1656420602|     |\n",
            "|         38|          1653560462|     |\n",
            "|         12|          1653412544|     |\n",
            "|        149|          1642580719|     |\n",
            "|       2081|          1620541724|     |\n",
            "|        253|          1618351628|     |\n",
            "|        153|          1608877050|     |\n",
            "|        358|          1540800860|     |\n",
            "|         59|          1539664699|     |\n",
            "|        417|          1531752193|     |\n",
            "|        237|          1518827550|     |\n",
            "+-----------+--------------------+-----+\n",
            "only showing top 20 rows\n",
            "\n"
          ],
          "name": "stdout"
        }
      ]
    },
    {
      "cell_type": "markdown",
      "metadata": {
        "id": "mIY8zvs_jBC6",
        "colab_type": "text"
      },
      "source": [
        "# Step 5: Find top words and save the results"
      ]
    },
    {
      "cell_type": "code",
      "metadata": {
        "id": "7mKdmXtJvxUW",
        "colab_type": "code",
        "colab": {}
      },
      "source": [
        "#filtering records with blanks\n",
        "d7 = d6.filter(d6[\"text_\"] != '')"
      ],
      "execution_count": 0,
      "outputs": []
    },
    {
      "cell_type": "code",
      "metadata": {
        "id": "XOPCk7I4w1kc",
        "colab_type": "code",
        "colab": {}
      },
      "source": [
        "#changing all the text to lowercase\n",
        "from pyspark.sql.functions import lower, col\n",
        "d8 = d7.select(lower(col('text_')).alias('text_'))"
      ],
      "execution_count": 0,
      "outputs": []
    },
    {
      "cell_type": "code",
      "metadata": {
        "id": "jwZyl4DvquDS",
        "colab_type": "code",
        "colab": {}
      },
      "source": [
        "#removing numbers and punctuations\n",
        "\n",
        "from pyspark.sql.functions import regexp_replace\n",
        "\n",
        "d9 = d8.select(regexp_replace(col('text_'), '[0-9]', '').alias(\"replaced\"))\n",
        "d9 = d8.select(regexp_replace(col('text_'), \"[\\@$#,.?':;]\", '').alias(\"words\"))"
      ],
      "execution_count": 0,
      "outputs": []
    },
    {
      "cell_type": "code",
      "metadata": {
        "id": "9n5-30XJrwpO",
        "colab_type": "code",
        "outputId": "0ddbf759-36d2-4be9-dc3c-bd628f2640cf",
        "colab": {
          "base_uri": "https://localhost:8080/",
          "height": 459
        }
      },
      "source": [
        "d9.show()"
      ],
      "execution_count": 0,
      "outputs": [
        {
          "output_type": "stream",
          "text": [
            "+--------------------+\n",
            "|               words|\n",
            "+--------------------+\n",
            "|liberal_lisa your...|\n",
            "|amazonhelp driver...|\n",
            "|love writing lear...|\n",
            "|amazonhelp could ...|\n",
            "|cevalogistics i o...|\n",
            "|cosanostrakosa it...|\n",
            "|can anyone tell m...|\n",
            "|amazonhelp contac...|\n",
            "|amazonhelp hey am...|\n",
            "|amazon this is wh...|\n",
            "|amazonhelp when a...|\n",
            "|amazon been prime...|\n",
            "|amazon they ask f...|\n",
            "|mhhh a plot to ge...|\n",
            "|amazonhelp is the...|\n",
            "|amazonhelp hey co...|\n",
            "|amazonhelp hey a ...|\n",
            "|wow amazon really...|\n",
            "|amazonuk i cant b...|\n",
            "|amazonhelp i have...|\n",
            "+--------------------+\n",
            "only showing top 20 rows\n",
            "\n"
          ],
          "name": "stdout"
        }
      ]
    },
    {
      "cell_type": "code",
      "metadata": {
        "id": "8CzoF25WZYRO",
        "colab_type": "code",
        "colab": {}
      },
      "source": [
        "#counting the number of words\n",
        "d10 = d9.withColumn('words', f.explode(f.split(f.col('words'), ' ')))\\\n",
        "      .groupBy('words').count()\\\n",
        "      .sort('count', ascending=False)"
      ],
      "execution_count": 0,
      "outputs": []
    },
    {
      "cell_type": "code",
      "metadata": {
        "id": "TbnSSyLa0QUw",
        "colab_type": "code",
        "colab": {}
      },
      "source": [
        "d11 = d10.filter(d10[\"words\"] != '')"
      ],
      "execution_count": 0,
      "outputs": []
    },
    {
      "cell_type": "code",
      "metadata": {
        "id": "YJH-6mel0DFa",
        "colab_type": "code",
        "outputId": "4bdcad7a-e929-4f44-807f-f21f631dfd9e",
        "colab": {
          "base_uri": "https://localhost:8080/",
          "height": 459
        }
      },
      "source": [
        "d11.show()"
      ],
      "execution_count": 0,
      "outputs": [
        {
          "output_type": "stream",
          "text": [
            "+----------+-----+\n",
            "|     words|count|\n",
            "+----------+-----+\n",
            "|         i| 1077|\n",
            "|        to| 1013|\n",
            "|    amazon|  926|\n",
            "|       the|  812|\n",
            "|        my|  792|\n",
            "|amazonhelp|  738|\n",
            "|         a|  726|\n",
            "|       and|  535|\n",
            "|       for|  532|\n",
            "|        is|  481|\n",
            "|        it|  475|\n",
            "|       you|  435|\n",
            "|        on|  431|\n",
            "|        in|  315|\n",
            "|        of|  306|\n",
            "|      this|  290|\n",
            "|        me|  279|\n",
            "|       but|  259|\n",
            "|      have|  251|\n",
            "|       not|  244|\n",
            "+----------+-----+\n",
            "only showing top 20 rows\n",
            "\n"
          ],
          "name": "stdout"
        }
      ]
    },
    {
      "cell_type": "code",
      "metadata": {
        "id": "XXeNjXciO_Y2",
        "colab_type": "code",
        "outputId": "86ed38a4-5d06-498f-a7bb-018eb7daeda9",
        "colab": {
          "base_uri": "https://localhost:8080/",
          "height": 85
        }
      },
      "source": [
        "d11.printSchema()"
      ],
      "execution_count": 0,
      "outputs": [
        {
          "output_type": "stream",
          "text": [
            "root\n",
            " |-- replaced: string (nullable = true)\n",
            " |-- count: long (nullable = false)\n",
            "\n"
          ],
          "name": "stdout"
        }
      ]
    },
    {
      "cell_type": "code",
      "metadata": {
        "id": "jb9Fu6LDPICU",
        "colab_type": "code",
        "colab": {}
      },
      "source": [
        "d12 = d11.withColumn(\"count\", d11[\"count\"].cast(StringType()))"
      ],
      "execution_count": 0,
      "outputs": []
    },
    {
      "cell_type": "code",
      "metadata": {
        "id": "XoCDeu24QQMP",
        "colab_type": "code",
        "outputId": "b4cdf2a6-6cb1-4ed0-b56a-3f1e3908c556",
        "colab": {
          "base_uri": "https://localhost:8080/",
          "height": 85
        }
      },
      "source": [
        "d12.printSchema()"
      ],
      "execution_count": 0,
      "outputs": [
        {
          "output_type": "stream",
          "text": [
            "root\n",
            " |-- words: string (nullable = true)\n",
            " |-- count: string (nullable = false)\n",
            "\n"
          ],
          "name": "stdout"
        }
      ]
    },
    {
      "cell_type": "code",
      "metadata": {
        "id": "QT9mfXbxQloZ",
        "colab_type": "code",
        "colab": {}
      },
      "source": [
        "d14 = d12.limit(10)"
      ],
      "execution_count": 0,
      "outputs": []
    },
    {
      "cell_type": "code",
      "metadata": {
        "id": "-PlDHu4_QpqX",
        "colab_type": "code",
        "outputId": "f5143c31-7718-42e7-f6de-aaddeab3cf69",
        "colab": {
          "base_uri": "https://localhost:8080/",
          "height": 272
        }
      },
      "source": [
        "d14.show()"
      ],
      "execution_count": 0,
      "outputs": [
        {
          "output_type": "stream",
          "text": [
            "+----------+-----+\n",
            "|     words|count|\n",
            "+----------+-----+\n",
            "|         i| 1077|\n",
            "|        to| 1013|\n",
            "|    amazon|  926|\n",
            "|       the|  812|\n",
            "|        my|  792|\n",
            "|amazonhelp|  738|\n",
            "|         a|  726|\n",
            "|       and|  535|\n",
            "|       for|  532|\n",
            "|        is|  481|\n",
            "+----------+-----+\n",
            "\n"
          ],
          "name": "stdout"
        }
      ]
    },
    {
      "cell_type": "code",
      "metadata": {
        "id": "9CHVpYu3QxwS",
        "colab_type": "code",
        "colab": {}
      },
      "source": [
        "#concat words and count to new column words_count\n",
        "d15 = d14.withColumn('words_count', \n",
        "                    f.concat(f.col('words'),f.lit(','), f.col('count')))"
      ],
      "execution_count": 0,
      "outputs": []
    },
    {
      "cell_type": "code",
      "metadata": {
        "id": "I1g2cnfFTaxu",
        "colab_type": "code",
        "outputId": "1bb4a07e-ed8a-4ed4-e119-7943652050cf",
        "colab": {
          "base_uri": "https://localhost:8080/",
          "height": 272
        }
      },
      "source": [
        "d15.show()"
      ],
      "execution_count": 0,
      "outputs": [
        {
          "output_type": "stream",
          "text": [
            "+----------+-----+--------------+\n",
            "|     words|count|   words_count|\n",
            "+----------+-----+--------------+\n",
            "|         i| 1077|        i,1077|\n",
            "|        to| 1013|       to,1013|\n",
            "|    amazon|  926|    amazon,926|\n",
            "|       the|  812|       the,812|\n",
            "|        my|  792|        my,792|\n",
            "|amazonhelp|  738|amazonhelp,738|\n",
            "|         a|  726|         a,726|\n",
            "|       and|  535|       and,535|\n",
            "|       for|  532|       for,532|\n",
            "|        is|  481|        is,481|\n",
            "+----------+-----+--------------+\n",
            "\n"
          ],
          "name": "stdout"
        }
      ]
    },
    {
      "cell_type": "code",
      "metadata": {
        "id": "ReRGkgLLRFaE",
        "colab_type": "code",
        "colab": {}
      },
      "source": [
        "#selecting the column and saving it as a text file in Gdrive\n",
        "d15.select('words_count').write.text(\"/content/drive/My Drive/anedun2_HW2_text.txt\")"
      ],
      "execution_count": 0,
      "outputs": []
    }
  ]
}